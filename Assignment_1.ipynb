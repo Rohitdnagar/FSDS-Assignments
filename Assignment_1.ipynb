{
 "cells": [
  {
   "cell_type": "markdown",
   "id": "1a255570",
   "metadata": {},
   "source": [
    "1. In the below elements which of them are values or an expression? eg:- values can be integer or string and expressions will be mathematical operators.\n",
    "\n",
    "* \n",
    "'hello'\n",
    "-87.8\n",
    "- \n",
    "/ \n",
    "+\t\n",
    "6 \n",
    "\n",
    "Ans. Here are three values and four expressions.\n",
    "Values:  'hello', -87.8, 6\n",
    "Expressions: *, -, /, +\n",
    "\n"
   ]
  },
  {
   "cell_type": "markdown",
   "id": "85317756",
   "metadata": {},
   "source": [
    "2. What is the difference between string and variable?\n",
    "\n",
    "Ans. A string is a group of character or a single character that is enclosed in double quote “ “ or single quote ‘ ‘, and variable is use to store information in it such as string, int, table etc.\n"
   ]
  },
  {
   "cell_type": "markdown",
   "id": "63e482d7",
   "metadata": {},
   "source": [
    "3. Describe three different data types.\n",
    "\n",
    "Ans. Three basic data types are explained below:\n",
    "\n",
    "1) int: These are the whole number or integral values.\n",
    "2) float: These data types are decimal numbers, and represents floatin point.\n",
    "3) complex: These data types are combination of real and imaginary values. "
   ]
  },
  {
   "cell_type": "code",
   "execution_count": 14,
   "id": "d24f6d81",
   "metadata": {},
   "outputs": [
    {
     "name": "stdout",
     "output_type": "stream",
     "text": [
      "456 <-- this data type is <class 'int'>\n",
      "26.5 <-- this data type is <class 'float'>\n",
      "(25+6j) <-- this data type is <class 'complex'>\n"
     ]
    }
   ],
   "source": [
    "# Example of int data type:\n",
    "\n",
    "data_1 = 456\n",
    "print (data_1, \"<-- this data type is\", type(data_1))\n",
    "\n",
    "# Example of float data type:\n",
    "\n",
    "data_2 = 26.5\n",
    "print (data_2, \"<-- this data type is\", type(data_2))\n",
    "\n",
    "# Example of complex data type:\n",
    "\n",
    "data_3 = 25+6j\n",
    "print (data_3, \"<-- this data type is\", type(data_3))"
   ]
  },
  {
   "cell_type": "markdown",
   "id": "61338473",
   "metadata": {},
   "source": [
    "4. What is an expression made up of? What do all expressions do?\n",
    "\n",
    "Ans. An expression is a combination of values, variables and operators. When we call python to print the expression, the interpreter evaluates the expression and displays the result."
   ]
  },
  {
   "cell_type": "code",
   "execution_count": 15,
   "id": "57613667",
   "metadata": {},
   "outputs": [
    {
     "data": {
      "text/plain": [
       "179"
      ]
     },
     "execution_count": 15,
     "metadata": {},
     "output_type": "execute_result"
    }
   ],
   "source": [
    "80*2+25-6 \n",
    "# the above is an expression, and python interprerer evaluates the exression as 179"
   ]
  },
  {
   "cell_type": "markdown",
   "id": "d61a53b8",
   "metadata": {},
   "source": [
    "5. This assignment statements, like spam = 10. What is the difference between an expression and a statement?\n",
    "\n",
    "Expression: An expression is a combination of values, variables and operators, which is evaluated by the interpreter.\n",
    "eg. 3+8 is an expression\n",
    "\n",
    "Statement: A statement is a unit of code that has an effect, like printing value. \n",
    "eg. Name = 'Rohit' is an statement"
   ]
  },
  {
   "cell_type": "code",
   "execution_count": 17,
   "id": "69c92aca",
   "metadata": {},
   "outputs": [],
   "source": [
    "3+8 # is an expression\n",
    "\n",
    "Name = 'Rohit' # is a statement"
   ]
  },
  {
   "cell_type": "markdown",
   "id": "14a7927a",
   "metadata": {},
   "source": [
    "6. After running the following code, what does the variable bacon contain?\n",
    "bacon = 22\n",
    "bacon + 1\n",
    "\n",
    "Ans. The variable bacon will still contain 22.\n",
    "The variable bacon is defined as 22, and the expression bacon +1 does not reassign its value.\n",
    "\n",
    "To reassign the value we have to write the code as follows:\n",
    "\n",
    "bacon = bacon +1\n"
   ]
  },
  {
   "cell_type": "code",
   "execution_count": 20,
   "id": "71d804f4",
   "metadata": {},
   "outputs": [
    {
     "name": "stdout",
     "output_type": "stream",
     "text": [
      "22\n"
     ]
    }
   ],
   "source": [
    "bacon = 22\n",
    "bacon + 1\n",
    "print (bacon)"
   ]
  },
  {
   "cell_type": "markdown",
   "id": "9d440b23",
   "metadata": {},
   "source": [
    "7. What should the values of the following two terms be?\n",
    "'spam' + 'spamspam'\n",
    "'spam' * 3\n",
    "\n",
    "Ans. Both the expression will result the string 'spamspamspam'"
   ]
  },
  {
   "cell_type": "code",
   "execution_count": 24,
   "id": "d8b949ad",
   "metadata": {},
   "outputs": [
    {
     "name": "stdout",
     "output_type": "stream",
     "text": [
      "spamspamspam\n",
      "spamspamspam\n"
     ]
    }
   ],
   "source": [
    "print('spam' + 'spamspam') # concatenation\n",
    "\n",
    "print('spam' * 3) # multiplication"
   ]
  },
  {
   "cell_type": "markdown",
   "id": "926ab766",
   "metadata": {},
   "source": [
    "8. Why is eggs a valid variable name while 100 is invalid?\n",
    "\n",
    "Ans. The variable name can not start with a number, that is why eggs is a valid variable and 100 is not.\n"
   ]
  },
  {
   "cell_type": "code",
   "execution_count": 25,
   "id": "b596ba58",
   "metadata": {},
   "outputs": [
    {
     "ename": "SyntaxError",
     "evalue": "cannot assign to literal (Temp/ipykernel_6024/314405553.py, line 4)",
     "output_type": "error",
     "traceback": [
      "\u001b[1;36m  File \u001b[1;32m\"C:\\Users\\user\\AppData\\Local\\Temp/ipykernel_6024/314405553.py\"\u001b[1;36m, line \u001b[1;32m4\u001b[0m\n\u001b[1;33m    100 = 'abc'\u001b[0m\n\u001b[1;37m    ^\u001b[0m\n\u001b[1;31mSyntaxError\u001b[0m\u001b[1;31m:\u001b[0m cannot assign to literal\n"
     ]
    }
   ],
   "source": [
    "eggs = 50\n",
    "print(eggs)\n",
    "\n",
    "100 = 'abc'\n",
    "print(100)\n"
   ]
  },
  {
   "cell_type": "markdown",
   "id": "c11f987e",
   "metadata": {},
   "source": [
    "9. What three functions can be used to get the integer, floating-point number, or string version of a value?\n",
    "\n",
    "Ans. Following are the functions:\n",
    "\n",
    "function for integer: int()\n",
    "function for floating-point: float()\n",
    "function for string: str()\n",
    "\n"
   ]
  },
  {
   "cell_type": "markdown",
   "id": "7bbf5617",
   "metadata": {},
   "source": [
    "10. Why does this expression cause an error? How can you fix it?\n",
    "'I have eaten ' + 99 + ' burritos.'\n",
    "\n",
    "Ans. The expression causes an error because of 99. \n",
    "     The int can not congatenate with string.\n",
    "     To make this happen we have to type cast 99 to str. -> str(99)\n",
    "     \n",
    "     OR\n",
    "     \n",
    "     We have to write '99' instead of 99.\n"
   ]
  },
  {
   "cell_type": "code",
   "execution_count": 26,
   "id": "15713bfb",
   "metadata": {},
   "outputs": [
    {
     "ename": "TypeError",
     "evalue": "can only concatenate str (not \"int\") to str",
     "output_type": "error",
     "traceback": [
      "\u001b[1;31m---------------------------------------------------------------------------\u001b[0m",
      "\u001b[1;31mTypeError\u001b[0m                                 Traceback (most recent call last)",
      "\u001b[1;32m~\\AppData\\Local\\Temp/ipykernel_6024/1774935878.py\u001b[0m in \u001b[0;36m<module>\u001b[1;34m\u001b[0m\n\u001b[1;32m----> 1\u001b[1;33m \u001b[1;34m'I have eaten '\u001b[0m \u001b[1;33m+\u001b[0m \u001b[1;36m99\u001b[0m \u001b[1;33m+\u001b[0m \u001b[1;34m' burritos.'\u001b[0m\u001b[1;33m\u001b[0m\u001b[1;33m\u001b[0m\u001b[0m\n\u001b[0m",
      "\u001b[1;31mTypeError\u001b[0m: can only concatenate str (not \"int\") to str"
     ]
    }
   ],
   "source": [
    "'I have eaten ' + 99 + ' burritos.'"
   ]
  },
  {
   "cell_type": "code",
   "execution_count": 31,
   "id": "19497744",
   "metadata": {},
   "outputs": [
    {
     "name": "stdout",
     "output_type": "stream",
     "text": [
      "I have eaten 99 burritos.\n",
      "I have eaten 99 burritos.\n"
     ]
    }
   ],
   "source": [
    "print('I have eaten ' + str(99) + ' burritos.')\n",
    "\n",
    "print('I have eaten ' + '99' + ' burritos.')"
   ]
  },
  {
   "cell_type": "code",
   "execution_count": null,
   "id": "9a1c91c0",
   "metadata": {},
   "outputs": [],
   "source": []
  }
 ],
 "metadata": {
  "kernelspec": {
   "display_name": "Python 3 (ipykernel)",
   "language": "python",
   "name": "python3"
  },
  "language_info": {
   "codemirror_mode": {
    "name": "ipython",
    "version": 3
   },
   "file_extension": ".py",
   "mimetype": "text/x-python",
   "name": "python",
   "nbconvert_exporter": "python",
   "pygments_lexer": "ipython3",
   "version": "3.9.7"
  }
 },
 "nbformat": 4,
 "nbformat_minor": 5
}
