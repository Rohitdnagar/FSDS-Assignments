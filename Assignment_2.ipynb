{
  "nbformat": 4,
  "nbformat_minor": 0,
  "metadata": {
    "colab": {
      "provenance": []
    },
    "kernelspec": {
      "name": "python3",
      "display_name": "Python 3"
    },
    "language_info": {
      "name": "python"
    }
  },
  "cells": [
    {
      "cell_type": "markdown",
      "source": [
        "# **Assignment - 2**"
      ],
      "metadata": {
        "id": "h5RjzLvOofOE"
      }
    },
    {
      "cell_type": "markdown",
      "source": [
        "1.What are the two values of the boolean data types? how do you write them ?\n",
        "\n",
        "Ans: The two boolean data types are True and False\n"
      ],
      "metadata": {
        "id": "ANWCEsmDoydq"
      }
    },
    {
      "cell_type": "code",
      "source": [
        "a = True\n",
        "b = False\n",
        "print(a,type(a))\n",
        "print(b,type(b))\n"
      ],
      "metadata": {
        "colab": {
          "base_uri": "https://localhost:8080/"
        },
        "id": "YLGwD9--pyd6",
        "outputId": "ffcddeb1-df30-4e22-fffd-d258efa7e06f"
      },
      "execution_count": 19,
      "outputs": [
        {
          "output_type": "stream",
          "name": "stdout",
          "text": [
            "True <class 'bool'>\n",
            "False <class 'bool'>\n"
          ]
        }
      ]
    },
    {
      "cell_type": "markdown",
      "source": [
        "2. What are the three different types of Boolean operators?\n",
        "\n",
        "Ans: The three boolean operators are `and` `or` and not.\n",
        "\n",
        "\n"
      ],
      "metadata": {
        "id": "srVWvsoLsRz0"
      }
    },
    {
      "cell_type": "code",
      "source": [
        "a = 10\n",
        "b = 20\n",
        "print(a>5 and b<30)\n",
        "print(a<20 or b<10)\n",
        "print(not(a>20))"
      ],
      "metadata": {
        "colab": {
          "base_uri": "https://localhost:8080/"
        },
        "id": "ghd-D-6Aq0wN",
        "outputId": "3616679b-90a0-4ef0-e31f-fba4ad729e18"
      },
      "execution_count": 23,
      "outputs": [
        {
          "output_type": "stream",
          "name": "stdout",
          "text": [
            "True\n",
            "True\n",
            "True\n"
          ]
        }
      ]
    },
    {
      "cell_type": "markdown",
      "source": [
        "3. Make a list of each Boolean opetator's truth tables(i.e. every possible combination of Boolean values for the operator and what it evaluate).\n",
        "\n",
        "Ans: The following are the truth tables for the Boolean operators:-\n",
        "\n",
        "**Truth table for the `and` Boolean operator:**\n",
        "True and False is False\n",
        "False and True is False\n",
        "True and True is True\n",
        "False and False is False\n",
        "\n",
        "**Truth table for the `or` Boolean operator:**\n",
        "True or False is True\n",
        "False or True is True\n",
        "True or True is True\n",
        "False or False is False\n",
        "\n",
        "**Truth table for the `not` Boolean operator:**\n",
        "\n",
        "True not is False\n",
        "False not is True\n",
        "\n",
        "\n",
        "\n"
      ],
      "metadata": {
        "id": "QuKUMujovr__"
      }
    },
    {
      "cell_type": "markdown",
      "source": [
        "4. What are the values of the following expressions ?\n",
        "(5 > 4) and (3 == 5)\n",
        "not (5 > 4)\n",
        "(5 > 4) or (3 == 5)\n",
        "not ((5 > 4) or (3 == 5))\n",
        "(True and True) and (True == False)\n",
        "(not False) or (not True)"
      ],
      "metadata": {
        "id": "wls9f47rz1Vh"
      }
    },
    {
      "cell_type": "code",
      "source": [
        "## Ans:\n",
        "print((5 > 4) and (3 == 5))\n",
        "print(not (5 > 4))\n",
        "print((5 > 4) or (3 == 5))\n",
        "print(not ((5 > 4) or (3 == 5)))\n",
        "print((True and True) and (True == False))\n",
        "print((not False) or (not True))"
      ],
      "metadata": {
        "colab": {
          "base_uri": "https://localhost:8080/"
        },
        "id": "P21VWnyQzKxi",
        "outputId": "6a394760-879a-4f52-c0c5-d118d3a0c233"
      },
      "execution_count": 5,
      "outputs": [
        {
          "output_type": "stream",
          "name": "stdout",
          "text": [
            "False\n",
            "False\n",
            "True\n",
            "False\n",
            "False\n",
            "True\n"
          ]
        }
      ]
    },
    {
      "cell_type": "markdown",
      "source": [
        "5. What are the six comparision operators?\n",
        "\n",
        "Ans: The six comparision operators are as follows:\n",
        "`==`, `!=`, `<`,`>` `<=`, `=>`"
      ],
      "metadata": {
        "id": "sPyegjQB0eIT"
      }
    },
    {
      "cell_type": "markdown",
      "source": [
        "**6. How do you tell the difference between the equal to and assignment operators?Describe a condition and when you would use one ?**\n",
        "\n",
        "Ans: `==` is the 'equal to' operator that compares two values. While`=` is the operator that stores a value to a variable."
      ],
      "metadata": {
        "id": "k6tvIb5V1VlR"
      }
    },
    {
      "cell_type": "code",
      "source": [
        "print (10==1)"
      ],
      "metadata": {
        "colab": {
          "base_uri": "https://localhost:8080/"
        },
        "id": "_EnoOe3l19-q",
        "outputId": "a11bae6f-9799-4e1a-dc93-f2ce6a301241"
      },
      "execution_count": 6,
      "outputs": [
        {
          "output_type": "stream",
          "name": "stdout",
          "text": [
            "False\n"
          ]
        }
      ]
    },
    {
      "cell_type": "code",
      "source": [
        "a=9\n",
        "print (a)"
      ],
      "metadata": {
        "colab": {
          "base_uri": "https://localhost:8080/"
        },
        "id": "VBg_3TGY2E29",
        "outputId": "1c543158-67be-4f38-bc19-f92689655fc8"
      },
      "execution_count": 9,
      "outputs": [
        {
          "output_type": "stream",
          "name": "stdout",
          "text": [
            "9\n"
          ]
        }
      ]
    },
    {
      "cell_type": "code",
      "source": [],
      "metadata": {
        "id": "qfEEZ3Vy2Ku8"
      },
      "execution_count": null,
      "outputs": []
    },
    {
      "cell_type": "markdown",
      "source": [
        "7. **Identify the three blocks in this code:**\n",
        "spam = 0\n",
        "if spam == 10:\n",
        "print('eggs')\n",
        "if spam > 5:\n",
        "print('bacon')\n",
        "else:\n",
        "print('ham')\n",
        "print('spam')\n",
        "print('spam')\n",
        "\n",
        "Ans: Block refferes to a set of codes which is in a same block or indent."
      ],
      "metadata": {
        "id": "HMVDsins22Tw"
      }
    },
    {
      "cell_type": "code",
      "source": [
        "spam = 0\n",
        "if spam == 10:\n",
        "  print('eggs') #block 1\n",
        "if spam > 5:\n",
        "    print('bacon') #block 2\n",
        "else:\n",
        "     print('ham') #block 3\n",
        "print ('spam')\n",
        "print('spam')"
      ],
      "metadata": {
        "colab": {
          "base_uri": "https://localhost:8080/"
        },
        "id": "eFeR-qEC3M0V",
        "outputId": "a065e41c-5cc9-44d0-9d8b-98c1b28a3cc3"
      },
      "execution_count": 11,
      "outputs": [
        {
          "output_type": "stream",
          "name": "stdout",
          "text": [
            "ham\n",
            "spam\n",
            "spam\n"
          ]
        }
      ]
    },
    {
      "cell_type": "markdown",
      "source": [
        "8. **Write code that prints Hello if 1 is stored in spam, prints Howdy if 2 is stored in spam, and prints Greetings! if anything else is stored in spam.**\n"
      ],
      "metadata": {
        "id": "-1f4fS5K4Rjk"
      }
    },
    {
      "cell_type": "code",
      "source": [
        "def spamCode(spam):\n",
        "    if spam==1:\n",
        "        print('Hello')\n",
        "    elif spam==2:\n",
        "        print('Howdy')\n",
        "    else:\n",
        "        print('Greetings')\n",
        "\n",
        "spamCode(1)\n",
        "spamCode(2)\n",
        "spamCode(3)"
      ],
      "metadata": {
        "colab": {
          "base_uri": "https://localhost:8080/"
        },
        "id": "WbjVida741eT",
        "outputId": "42228c51-0346-4df6-85c7-5c832a6c2754"
      },
      "execution_count": 18,
      "outputs": [
        {
          "output_type": "stream",
          "name": "stdout",
          "text": [
            "Hello\n",
            "Howdy\n",
            "Greetings\n"
          ]
        }
      ]
    },
    {
      "cell_type": "markdown",
      "source": [
        "9. **If your programme is stuck in an endless loop, what keys you’ll press?**\n",
        "\n",
        "Ans: If we stuck in an endless lool, then we will press Ctrl-c"
      ],
      "metadata": {
        "id": "r0B9D7e78SvC"
      }
    },
    {
      "cell_type": "markdown",
      "source": [
        "10. **How can you tell the difference between break and continue?**\n",
        "\n",
        "Ans: The `break` statement will move the execution outside the loop if break condtion is satisfied. Whereas the `continue` statement will move the execution to the start of the loop."
      ],
      "metadata": {
        "id": "w3n2d5ZB8zt-"
      }
    },
    {
      "cell_type": "markdown",
      "source": [
        "11. In a for loop, what is the difference between range(10), range(0, 10), and range(0, 10, 1)?\n",
        "\n",
        "Ans:\n",
        "range(10) refers to call a range from 0 upto 10th digit. i.e. 0 to 9\n",
        "range(0,10) refers to call a range that starts from 0 upto 10th digit (9).\n",
        "range(0,10,1) refers to call a range that starts from 0 with an intervel of 1  upto 10th digit(9)\n"
      ],
      "metadata": {
        "id": "lgA3UHp19idC"
      }
    },
    {
      "cell_type": "code",
      "source": [
        "print(range(10))\n",
        "print(range(0,10))\n",
        "print(range(0,10,1))"
      ],
      "metadata": {
        "colab": {
          "base_uri": "https://localhost:8080/"
        },
        "id": "3dpmDlzL9ZfP",
        "outputId": "6aa0fa36-2357-403a-fc9a-344218c0f232"
      },
      "execution_count": 28,
      "outputs": [
        {
          "output_type": "stream",
          "name": "stdout",
          "text": [
            "range(0, 10)\n",
            "range(0, 10)\n",
            "range(0, 10)\n"
          ]
        }
      ]
    },
    {
      "cell_type": "markdown",
      "source": [
        "12. **Write a short program that prints the numbers 1 to 10 using a for loop. Then write an equivalent program that prints the numbers 1 to 10 using a while loop ?**"
      ],
      "metadata": {
        "id": "RVmQYFq__WCt"
      }
    },
    {
      "cell_type": "code",
      "source": [
        "for i in range(1,11):\n",
        "    print (i, end=' ')\n",
        "print('\\n')\n",
        "i=1\n",
        "while i<=10:\n",
        "  print (i, end=' ')\n",
        "  i+=1"
      ],
      "metadata": {
        "colab": {
          "base_uri": "https://localhost:8080/"
        },
        "id": "Xux5s_9E_Z7Y",
        "outputId": "cbe0d0ae-c6e3-4e0e-bde4-d75a2ef80afd"
      },
      "execution_count": 43,
      "outputs": [
        {
          "output_type": "stream",
          "name": "stdout",
          "text": [
            "1 2 3 4 5 6 7 8 9 10 \n",
            "\n",
            "1 2 3 4 5 6 7 8 9 10 "
          ]
        }
      ]
    },
    {
      "cell_type": "markdown",
      "source": [
        "13. If you had a function named bacon() inside a module named spam, how would you call it after importing spam ?\n",
        "\n",
        "Ans. It will be called as `spam.bacon()`"
      ],
      "metadata": {
        "id": "ZAdbTie2BP4z"
      }
    },
    {
      "cell_type": "code",
      "source": [],
      "metadata": {
        "id": "QKEE6xmrBisQ"
      },
      "execution_count": null,
      "outputs": []
    }
  ]
}